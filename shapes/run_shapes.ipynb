{
 "cells": [
  {
   "cell_type": "code",
   "execution_count": null,
   "metadata": {
    "collapsed": true
   },
   "outputs": [],
   "source": [
    "import os\n",
    "import sys\n",
    "import math\n",
    "import random\n",
    "import numpy as np\n",
    "import cv2\n",
    "import matplotlib.pyplot as plt\n",
    "from yolov3_tf2 import models\n",
    "import tensorflow as tf\n",
    "\n",
    "from tensorflow.keras.callbacks import ReduceLROnPlateau, EarlyStopping, ModelCheckpoint, TensorBoard\n",
    "\n",
    "from yolov3_tf2.models import YoloV3, YoloV3Tiny, YoloLoss, yolo_anchors, yolo_anchor_masks, yolo_tiny_anchors, yolo_tiny_anchor_masks\n",
    "from yolov3_tf2.utils import freeze_all, draw_outputs\n",
    "from yolov3_tf2.dataset import transform_images, transform_targets, load_tfrecord_dataset\n",
    "from eval_utils import Evaluator"
   ]
  },
  {
   "cell_type": "code",
   "execution_count": null,
   "outputs": [],
   "source": [
    "from google.colab import drive\n",
    "drive.mount('/content/drive')"
   ],
   "metadata": {
    "collapsed": false,
    "pycharm": {
     "name": "#%%\n"
    }
   }
  },
  {
   "cell_type": "code",
   "execution_count": null,
   "outputs": [],
   "source": [
    "!git clone https://github.com/jbutle55/yolov3-tf2\n",
    "%cd yolov3-tf2/"
   ],
   "metadata": {
    "collapsed": false,
    "pycharm": {
     "name": "#%%\n"
    }
   }
  },
  {
   "cell_type": "code",
   "execution_count": null,
   "outputs": [],
   "source": [
    "train_path = '/Users/justinbutler/Desktop/school/Calgary/ML_Work/Datasets/Shapes/tfrecord_single/coco_train.record-00000-of-00001'\n",
    "valid_path = '/Users/justinbutler/Desktop/school/Calgary/ML_Work/Datasets/Shapes/tfrecord_single/coco_val.record-00000-of-00001'\n",
    "weights_path = '/Users/justinbutler/Desktop/school/Calgary/ML_Work/yolov3-tf2/checkpoints/yolov3.tf'\n",
    "# Path to text? file containing all classes, 1 per line\n",
    "classes = '/Users/justinbutler/Desktop/school/Calgary/ML_Work/yolov3-tf2/shapes/shapes.names'\n",
    "# Usually fit\n",
    "# mode = 'fit'  # Can be 'fit', 'eager_fit', 'eager_tf', 'valid'\n",
    "mode = 'fit'\n",
    "image_size = 416\n",
    "num_epochs = 1\n",
    "batch_size = 8\n",
    "learning_rate = 1e-3\n",
    "num_classes = 4\n",
    "# num class for `weights` file if different, useful in transfer learning with different number of classes\n",
    "weight_num_classes = 80\n",
    "saved_weights_path = '/home/justin/ml_models/yolov3-tf2/weights/shapes_{}.tf'.format(num_epochs)\n",
    "anchors = yolo_anchors\n",
    "anchor_masks = yolo_anchor_masks\n",
    "iou_threshold=0.5"
   ],
   "metadata": {
    "collapsed": false,
    "pycharm": {
     "name": "#%%\n"
    }
   }
  },
  {
   "cell_type": "code",
   "execution_count": null,
   "outputs": [],
   "source": [
    "dataset_train = load_tfrecord_dataset(train_path, classes, image_size)\n",
    "dataset_train = dataset_train.shuffle(buffer_size=512)\n",
    "dataset_train = dataset_train.batch(batch_size)\n",
    "dataset_train = dataset_train.map(lambda x, y: (\n",
    "    transform_images(x, image_size),\n",
    "    transform_targets(y, anchors, anchor_masks, image_size)))\n",
    "dataset_train = dataset_train.prefetch(\n",
    "    buffer_size=tf.data.experimental.AUTOTUNE)\n",
    "\n",
    "dataset_val = load_tfrecord_dataset(valid_path, classes, image_size)\n",
    "dataset_val = dataset_val.shuffle(buffer_size=512)\n",
    "dataset_val = dataset_val.batch(batch_size)\n",
    "dataset_val = dataset_val.map(lambda x, y: (\n",
    "    transform_images(x, image_size),\n",
    "    transform_targets(y, anchors, anchor_masks, image_size)))"
   ],
   "metadata": {
    "collapsed": false,
    "pycharm": {
     "name": "#%%\n"
    }
   }
  },
  {
   "cell_type": "code",
   "execution_count": null,
   "outputs": [],
   "source": [
    "# Create model in training mode\n",
    "yolo = models.YoloV3(image_size, training=True, classes=num_classes)\n",
    "model_pretrained = YoloV3(image_size,\n",
    "                          training=True,\n",
    "                          classes=weight_num_classes or num_classes)\n",
    "model_pretrained.load_weights(weights_path)\n",
    "# Which weights to start with?\n",
    "print('Loading Weights...')\n",
    "#yolo.load_weights(weights_path)\n",
    "yolo.get_layer('yolo_darknet').set_weights(\n",
    "    model_pretrained.get_layer('yolo_darknet').get_weights())\n",
    "freeze_all(yolo.get_layer('yolo_darknet'))\n",
    "\n",
    "optimizer = tf.keras.optimizers.Adam(lr=learning_rate)\n",
    "loss = [YoloLoss(anchors[mask], classes=num_classes) for mask in anchor_masks]  # Passing loss as a list might sometimes fail? dict might be better?\n",
    "yolo.compile(optimizer=optimizer, loss=loss,\n",
    "                          run_eagerly=(mode == 'eager_fit'))\n",
    "callbacks = [ReduceLROnPlateau(verbose=1),\n",
    "             EarlyStopping(patience=3, verbose=1),\n",
    "             ModelCheckpoint('checkpoints/yolov3_train_{epoch}.tf', verbose=1, save_weights_only=True),\n",
    "             TensorBoard(log_dir='logs')]"
   ],
   "metadata": {
    "collapsed": false,
    "pycharm": {
     "name": "#%%\n"
    }
   }
  },
  {
   "cell_type": "code",
   "execution_count": null,
   "outputs": [],
   "source": [
    "history = yolo.fit(dataset_train,\n",
    "                    epochs=num_epochs,\n",
    "                    callbacks=callbacks,\n",
    "                    validation_data=dataset_val)\n",
    "yolo.save_weights(saved_weights_path)"
   ],
   "metadata": {
    "collapsed": false,
    "pycharm": {
     "name": "#%%\n"
    }
   }
  },
  {
   "cell_type": "code",
   "execution_count": null,
   "outputs": [],
   "source": [
    "model = YoloV3(image_size, training=False, classes=num_classes)\n",
    "model.load_weights(saved_weights_path).expect_partial()\n",
    "batch_size = 1\n",
    "val_dataset = load_tfrecord_dataset(valid_path, classes, image_size)\n",
    "val_dataset = val_dataset.batch(batch_size)\n",
    "val_dataset = val_dataset.map(lambda x, y: (\n",
    "    transform_images(x, image_size),\n",
    "    transform_targets(y, anchors, anchor_masks, image_size)))\n",
    "images = []\n",
    "for img, labs in val_dataset:\n",
    "    img = np.squeeze(img)\n",
    "    images.append(img)\n",
    "predictions = []\n",
    "\n",
    "evaluator = Evaluator(iou_thresh=iou_threshold)"
   ],
   "metadata": {
    "collapsed": false,
    "pycharm": {
     "name": "#%%\n"
    }
   }
  },
  {
   "cell_type": "code",
   "execution_count": null,
   "outputs": [],
   "source": [
    "# labels - (N, grid, grid, anchors, [x, y, w, h, obj, class])\n",
    "boxes, scores, classes, num_detections = model.predict(val_dataset)\n",
    "# boxes -> (num_imgs, num_detections, box coords)"
   ],
   "metadata": {
    "collapsed": false,
    "pycharm": {
     "name": "#%%\n"
    }
   }
  },
  {
   "cell_type": "code",
   "execution_count": null,
   "outputs": [],
   "source": [
    "for img in full_labels:\n",
    "    for scale in img:\n",
    "        scale = np.empty(1)\n",
    "        less_dim = scale[0]\n",
    "        for grid1 in less_dim:\n",
    "            for grid2 in grid1:\n",
    "                for anchor in grid2:\n",
    "                    x1 = anchor[0]\n",
    "                    y1 = anchor[1]\n",
    "                    w = anchor[2]\n",
    "                    h = anchor[3]\n",
    "                    obj = anchor[4]\n",
    "                    cls = anchor[5]\n",
    "                    x2 = x1 + w\n",
    "                    y2 = y1 + h\n",
    "                    if obj != 0:\n",
    "                        vect = [x1, y1, x2, y2, obj, cls]\n",
    "                        np.append(scale, vect)\n",
    "\n",
    "\n",
    "\n",
    "\n",
    "# Full labels shape -> [num_batches, grid scale, imgs]\n",
    "# Full labels shape -> [num_batches, [grid, grid, anchors, [x,y,w,h,obj,class]]]\n",
    "full_labels = np.asarray([label for _, label in val_dataset])\n",
    "# Shape -> [num_batches, num_imgs_in_batch, 3]\n",
    "# Shape -> [num_batches, num_imgs, 3x[grid,grid,anchors,[x,y,w,h,score,class]]]\n",
    "full_labels_trans = full_labels.transpose(0, 2, 1)\n",
    "full_labels_flat = []\n",
    "for batch in full_labels_trans:\n",
    "    for img in batch:\n",
    "        row = []\n",
    "        for scale in img:\n",
    "            row.append(scale)\n",
    "        full_labels_flat.append(row)\n",
    "# Shape -> [num_imgs x 3]\n",
    "full_labels_flat = np.asarray(full_labels_flat)\n",
    "# Remove any labels consisting of all 0's\n",
    "filt_labels = []\n",
    "# for img in range(len(full_labels_flat)):\n",
    "for img in full_labels_flat:\n",
    "    test = []\n",
    "    # for scale in full_labels_flat[img]:\n",
    "    for scale in img:\n",
    "        lab_list = []\n",
    "        for g1 in scale:\n",
    "            for g2 in g1:\n",
    "                for anchor in g2:\n",
    "                    if anchor[0] > 0:\n",
    "                        temp = [anchor[0] * image_size,\n",
    "                                anchor[1] * image_size,\n",
    "                                anchor[2] * image_size,\n",
    "                                anchor[3] * image_size,\n",
    "                                anchor[4],\n",
    "                                anchor[5]]\n",
    "                        temp = [float(x) for x in temp]\n",
    "                        lab_list.append(np.asarray(temp))\n",
    "        test.append(np.asarray(lab_list))\n",
    "    filt_labels.append(np.asarray(test))\n",
    "filt_labels = np.asarray(filt_labels)  # Numpy array of shape [num_imgs, 3x[num_boxesx[x1,y1,x2,y2,score,class]]]\n",
    "# filt_labels = filt_labels[:, :4] * image_size\n",
    "# i is the num_images index\n",
    "# predictions = [np.hstack([boxes[i][x], scores[i][x], classes[i][x]]) for i in range(len(num_detections)) for x in range(len(scores[i])) if scores[i][x] > 0]\n",
    "for img in range(len(num_detections)):\n",
    "    row = []\n",
    "    for sc in range(len(scores[img])):\n",
    "        if scores[img][sc] > 0:\n",
    "            row.append(np.hstack([boxes[img][sc] * image_size, scores[img][sc], classes[img][sc]]))\n",
    "    predictions.append(np.asarray(row))\n",
    "predictions = np.asarray(predictions)  # numpy array of shape [num_imgs x num_preds x 6]\n",
    "if len(predictions) == 0:  # No predictions made\n",
    "    print('No predictions made - exiting.')\n"
   ],
   "metadata": {
    "collapsed": false,
    "pycharm": {
     "name": "#%%\n"
    }
   }
  },
  {
   "cell_type": "code",
   "execution_count": null,
   "outputs": [],
   "source": [
    "evaluator(predictions, filt_labels, images)  # Check gts box coords\n"
   ],
   "metadata": {
    "collapsed": false,
    "pycharm": {
     "name": "#%%\n"
    }
   }
  },
  {
   "cell_type": "code",
   "execution_count": null,
   "outputs": [],
   "source": [],
   "metadata": {
    "collapsed": false,
    "pycharm": {
     "name": "#%%\n"
    }
   }
  },
  {
   "cell_type": "code",
   "execution_count": null,
   "outputs": [],
   "source": [],
   "metadata": {
    "collapsed": false,
    "pycharm": {
     "name": "#%%\n"
    }
   }
  }
 ],
 "metadata": {
  "kernelspec": {
   "display_name": "Python 3",
   "language": "python",
   "name": "python3"
  },
  "language_info": {
   "codemirror_mode": {
    "name": "ipython",
    "version": 2
   },
   "file_extension": ".py",
   "mimetype": "text/x-python",
   "name": "python",
   "nbconvert_exporter": "python",
   "pygments_lexer": "ipython2",
   "version": "2.7.6"
  }
 },
 "nbformat": 4,
 "nbformat_minor": 0
}