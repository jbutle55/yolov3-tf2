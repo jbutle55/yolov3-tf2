{
 "nbformat": 4,
 "nbformat_minor": 0,
 "metadata": {
  "colab": {
   "name": "Run_Video.ipynb",
   "provenance": [],
   "authorship_tag": "ABX9TyOY54FuPIELYE6RWuI77Gs7",
   "include_colab_link": true
  },
  "kernelspec": {
   "name": "python3",
   "language": "python",
   "display_name": "Python 3"
  }
 },
 "cells": [
  {
   "cell_type": "markdown",
   "metadata": {
    "id": "view-in-github",
    "colab_type": "text"
   },
   "source": [
    "<a href=\"https://colab.research.google.com/github/jbutle55/yolov3-tf2/blob/master/Run_Video.ipynb\" target=\"_parent\"><img src=\"https://colab.research.google.com/assets/colab-badge.svg\" alt=\"Open In Colab\"/></a>"
   ]
  },
  {
   "cell_type": "code",
   "metadata": {
    "id": "1vn9kmAnRfN2"
   },
   "source": [
    "!git clone https://github.com/jbutle55/yolov3-tf2\n",
    "%cd yolov3-tf2/\n",
    "!pip install -r requirements-gpu.txt"
   ],
   "execution_count": null,
   "outputs": []
  },
  {
   "cell_type": "markdown",
   "source": [
    "##### 2.  Check Tensorflow2 version"
   ],
   "metadata": {
    "collapsed": false
   }
  },
  {
   "cell_type": "code",
   "execution_count": null,
   "outputs": [],
   "source": [
    "%cd yolov3-tf2/\n",
    "!ls\n",
    "\n",
    "import tensorflow as tf\n",
    "tf.__version__"
   ],
   "metadata": {
    "collapsed": false,
    "pycharm": {
     "name": "#%%\n"
    }
   }
  },
  {
   "cell_type": "markdown",
   "source": [
    "##### Load weights"
   ],
   "metadata": {
    "collapsed": false,
    "pycharm": {
     "name": "#%% md\n"
    }
   }
  },
  {
   "cell_type": "code",
   "execution_count": null,
   "outputs": [],
   "source": [
    "!wget https://pjreddie.com/media/files/yolov3.weights -O data/yolov3.weights\n",
    "!python convert.py\n"
   ],
   "metadata": {
    "collapsed": false,
    "pycharm": {
     "name": "#%%\n"
    }
   }
  },
  {
   "cell_type": "code",
   "execution_count": null,
   "outputs": [],
   "source": [
    "class_path = 'classes.names'  # Path to classes file\n",
    "weights = '/checkpoints/yolov3_608.tf'  # Path to weight file\n",
    "size = 608  # Resize images to size - 416 04 608\n",
    "image = ''  # Path to input image\n",
    "tfrecord = None  # tfrecord instead of image or None\n",
    "output = ''  # Path to output image\n",
    "num_classes = 3  # Number of classes in model\n",
    "model_path = 'trained.h5'\n",
    "loading_model = False\n",
    "\n",
    "physical_devices = tf.config.experimental.list_physical_devices('GPU')\n",
    "for physical_device in physical_devices:\n",
    "    tf.config.experimental.set_memory_growth(physical_device, True)\n",
    "\n",
    "if loading_model is False:\n",
    "    yolo = YoloV3(classes=num_classes)\n",
    "    yolo.load_weights(weights).expect_partial()\n",
    "    print('weights loaded')\n",
    "else:\n",
    "    yolo = load_model(model_path)\n",
    "\n",
    "class_names = [c.strip() for c in open(class_path).readlines()]\n",
    "print('classes loaded')"
   ],
   "metadata": {
    "collapsed": false,
    "pycharm": {
     "name": "#%%\n"
    }
   }
  },
  {
   "cell_type": "code",
   "execution_count": null,
   "outputs": [],
   "source": [
    "if tfrecord:\n",
    "    dataset = load_tfrecord_dataset(tfrecord, class_path, size)\n",
    "    dataset = dataset.shuffle(512)\n",
    "    img_raw, _label = next(iter(dataset.take(1)))\n",
    "else:\n",
    "    img_raw = tf.image.decode_image(\n",
    "        open(image, 'rb').read(), channels=3)\n",
    "\n",
    "img = tf.expand_dims(img_raw, 0)\n",
    "img = transform_images(img, size)"
   ],
   "metadata": {
    "collapsed": false,
    "pycharm": {
     "name": "#%%\n"
    }
   }
  },
  {
   "cell_type": "code",
   "execution_count": null,
   "outputs": [],
   "source": [
    "t1 = time.time()\n",
    "boxes, scores, classes, nums = yolo(img)\n",
    "t2 = time.time()\n",
    "\n",
    "print('time: {}'.format(t2 - t1))\n",
    "print('detections:')\n",
    "for i in range(nums[0]):\n",
    "    print('\\t{}, {}, {}'.format(class_names[int(classes[0][i])],\n",
    "                                       np.array(scores[0][i]),\n",
    "                                       np.array(boxes[0][i])))\n",
    "\n",
    "img = cv2.cvtColor(img_raw.numpy(), cv2.COLOR_RGB2BGR)\n",
    "img = draw_outputs(img, (boxes, scores, classes, nums), class_names)\n",
    "cv2.imwrite(output, img)\n",
    "\n",
    "print('output saved to: {}'.format(output))"
   ],
   "metadata": {
    "collapsed": false,
    "pycharm": {
     "name": "#%%\n"
    }
   }
  }
 ]
}