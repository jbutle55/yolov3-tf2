{
 "nbformat": 4,
 "nbformat_minor": 0,
 "metadata": {
  "colab": {
   "name": "Run_Video.ipynb",
   "provenance": [],
   "authorship_tag": "ABX9TyOY54FuPIELYE6RWuI77Gs7",
   "include_colab_link": true
  },
  "kernelspec": {
   "name": "python3",
   "language": "python",
   "display_name": "Python 3"
  }
 },
 "cells": [
  {
   "cell_type": "markdown",
   "metadata": {
    "id": "view-in-github",
    "colab_type": "text"
   },
   "source": [
    "<a href=\"https://github.com/jbutle55/detectron2/blob/master/Run_Video.ipynb\" target=\"_parent\"><img src=\"https://colab.research.google.com/assets/colab-badge.svg\" alt=\"Open In Colab\"/></a>"
   ]
  },
  {
   "cell_type": "code",
   "execution_count": null,
   "outputs": [],
   "source": [
    "from google.colab import drive\n",
    "drive.mount('/content/drive')"
   ],
   "metadata": {
    "collapsed": false,
    "pycharm": {
     "name": "#%%\n"
    }
   }
  },
  {
   "cell_type": "code",
   "metadata": {
    "id": "1vn9kmAnRfN2"
   },
   "source": [
    "!git clone https://github.com/jbutle55/yolov3-tf2\n",
    "%cd yolov3-tf2/\n",
    "!pip install -r requirements-gpu.txt"
   ],
   "execution_count": null,
   "outputs": []
  },
  {
   "cell_type": "markdown",
   "source": [
    "##### 2.  Check Tensorflow2 version"
   ],
   "metadata": {
    "collapsed": false
   }
  },
  {
   "cell_type": "code",
   "execution_count": null,
   "outputs": [],
   "source": [
    "import tensorflow as tf\n",
    "tf.__version__\n",
    "\n",
    "import os\n",
    "import cv2\n",
    "import logging\n",
    "import time\n",
    "from yolov3_tf2.models import YoloV3\n",
    "from yolov3_tf2.utils import draw_outputs\n",
    "from yolov3_tf2.dataset import load_tfrecord_dataset, transform_images\n",
    "\n",
    "from google.colab.patches import cv2_imshow\n"
   ],
   "metadata": {
    "collapsed": false,
    "pycharm": {
     "name": "#%%\n"
    }
   }
  },
  {
   "cell_type": "markdown",
   "source": [
    "##### Load weights"
   ],
   "metadata": {
    "collapsed": false,
    "pycharm": {
     "name": "#%% md\n"
    }
   }
  },
  {
   "cell_type": "code",
   "execution_count": null,
   "outputs": [],
   "source": [
    "!wget https://pjreddie.com/media/files/yolov3.weights -O data/yolov3.weights\n",
    "!python convert.py\n"
   ],
   "metadata": {
    "collapsed": false,
    "pycharm": {
     "name": "#%%\n"
    }
   }
  },
  {
   "cell_type": "code",
   "execution_count": null,
   "outputs": [],
   "source": [
    "class_path = '/content/yolov3-tf2/data/coco.names'  # Path to classes file\n",
    "weights = '/content/yolov3-tf2/checkpoints/yolov3.tf'  # Path to weight file\n",
    "size = 608  # Resize images to size - 416 04 608\n",
    "video = '/content/drive/MyDrive/TestVideoData/MFOV - EOW.avi'  # Path to input image\n",
    "tfrecord = None  # tfrecord instead of image or None\n",
    "output = '/content/yolov3-tf2/data/output.avi'  # Path to output image\n",
    "num_classes = 80  # Number of classes in model\n",
    "model_path = 'trained.h5'\n",
    "loading_model = False\n",
    "output_format = 'XVID'\n",
    "\n",
    "physical_devices = tf.config.experimental.list_physical_devices('GPU')\n",
    "for physical_device in physical_devices:\n",
    "    tf.config.experimental.set_memory_growth(physical_device, True)\n",
    "\n",
    "if loading_model is False:\n",
    "    yolo = YoloV3(classes=num_classes)\n",
    "    yolo.load_weights(weights).expect_partial()\n",
    "    print('weights loaded')\n",
    "else:\n",
    "    yolo = load_model(model_path)\n",
    "\n",
    "class_names = [c.strip() for c in open(class_path).readlines()]\n",
    "print('classes loaded')"
   ],
   "metadata": {
    "collapsed": false,
    "pycharm": {
     "name": "#%%\n"
    }
   }
  },
  {
   "cell_type": "code",
   "execution_count": null,
   "outputs": [],
   "source": [
    "times = []\n",
    "\n",
    "try:\n",
    "    vid = cv2.VideoCapture(int(video))\n",
    "except:\n",
    "    vid = cv2.VideoCapture(video)\n",
    "out = None\n",
    "if output:\n",
    "    # by default VideoCapture returns float instead of int\n",
    "    width = int(vid.get(cv2.CAP_PROP_FRAME_WIDTH))\n",
    "    height = int(vid.get(cv2.CAP_PROP_FRAME_HEIGHT))\n",
    "    fps = int(vid.get(cv2.CAP_PROP_FPS))\n",
    "    codec = cv2.VideoWriter_fourcc(*output_format)\n",
    "    out = cv2.VideoWriter(output, codec, fps, (width, height))\n"
   ],
   "metadata": {
    "collapsed": false,
    "pycharm": {
     "name": "#%%\n"
    }
   }
  },
  {
   "cell_type": "code",
   "execution_count": null,
   "outputs": [],
   "source": [
    "from google.colab.patches import cv2_imshow\n",
    "\n",
    "while True:\n",
    "    _, img = vid.read()\n",
    "    if img is None:\n",
    "        logging.warning(\"Empty Frame\")\n",
    "        time.sleep(0.1)\n",
    "        continue\n",
    "    img_in = cv2.cvtColor(img, cv2.COLOR_BGR2RGB)\n",
    "    img_in = tf.expand_dims(img_in, 0)\n",
    "    img_in = transform_images(img_in, size)\n",
    "    t1 = time.time()\n",
    "    boxes, scores, classes, nums = yolo.predict(img_in)\n",
    "    t2 = time.time()\n",
    "    times.append(t2-t1)\n",
    "    times = times[-20:]\n",
    "    img = draw_outputs(img, (boxes, scores, classes, nums), class_names)\n",
    "    img = cv2.putText(img, \"Time: {:.2f}ms\".format(sum(times)/len(times)*1000), (0, 30),\n",
    "                      cv2.FONT_HERSHEY_COMPLEX_SMALL, 1, (0, 0, 255), 2)\n",
    "    if output:\n",
    "        out.write(img)\n",
    "    # cv2_imshow(img)\n",
    "    if cv2.waitKey(1) == ord('q'):\n",
    "        break\n",
    "\n",
    "cv2.destroyAllWindows()\n"
   ],
   "metadata": {
    "collapsed": false,
    "pycharm": {
     "name": "#%%\n"
    }
   }
  },
  {
   "cell_type": "code",
   "execution_count": null,
   "outputs": [],
   "source": [
    "from google.colab import auth\n",
    "from googleapiclient.http import MediaFileUpload\n",
    "from googleapiclient.discovery import build\n",
    "\n",
    "auth.authenticate_user()\n",
    "drive_service = build('drive', 'v3')\n",
    "\n",
    "def save_file_to_drive(name, path):\n",
    "  file_metadata = {'name': name, 'mimeType': 'application/octet-stream'}\n",
    "  media = MediaFileUpload(path, mimetype='application/octet-stream', resumable=True)\n",
    "  created = drive_service.files().create(body=file_metadata, media_body=media, fields='id').execute()\n",
    "\n",
    "  return created\n",
    "\n",
    "save_file_to_drive('output.avi', output)\n"
   ],
   "metadata": {
    "collapsed": false,
    "pycharm": {
     "name": "#%%\n"
    }
   }
  }
 ]
}